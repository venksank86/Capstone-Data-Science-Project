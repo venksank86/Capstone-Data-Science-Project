{
 "cells": [
  {
   "cell_type": "code",
   "execution_count": 9,
   "metadata": {
    "scrolled": true
   },
   "outputs": [
    {
     "name": "stdout",
     "output_type": "stream",
     "text": [
      "(88, 3)\n"
     ]
    }
   ],
   "source": [
    "#Import all the necessary Libraries\n",
    "from bs4 import BeautifulSoup\n",
    "import requests\n",
    "import csv\n",
    "import pandas as pd\n",
    "\n",
    "\n",
    "#### Populate the contents from Web Into CSV file###\n",
    "\n",
    "#Read the URL\n",
    "url = \"https://en.wikipedia.org/wiki/List_of_postal_codes_of_Canada:_M\"\n",
    "requests = requests.get(url) \n",
    "#Gather the Contents\n",
    "soup = BeautifulSoup(requests.content,'html5lib') \n",
    "\n",
    "#Create a CSV File\n",
    "csv_file = open('postal_code.csv_3', 'w')\n",
    "csv_writer = csv.writer(csv_file)\n",
    "csv_writer.writerow(['Postal Code', 'Borough', 'Neighbourhood'])\n",
    "\n",
    "#Read the essential tags containing the contents required\n",
    "rows = soup.find_all('td')\n",
    "for row in rows:\n",
    "    postalcode = row.find('b')\n",
    "    if postalcode:\n",
    "        postalcode_1 = postalcode.text\n",
    "    else:\n",
    "        postalcode_1 = ''\n",
    "    a_tags = row.select('span')\n",
    "    for a_tag in a_tags:\n",
    "        hrefs = a_tag.find_all('a')\n",
    "#Resetting the Variables for the new row\n",
    "        index    = 1\n",
    "        borough  = ' '\n",
    "        nexthood = ' ' \n",
    "#First Index of a given HREF is Borough and Other are neighbourhood     \n",
    "        for href in hrefs:\n",
    "                if index == 1:\n",
    "                    borough = href.text\n",
    "                    index   = index + 1\n",
    "                else:\n",
    "                    nexthood = href.text + ',' + nexthood\n",
    "                    index = index + 1          \n",
    "        csv_writer.writerow([postalcode_1 ,borough,nexthood]) \n",
    "\n",
    "csv_file.close()\n",
    "\n",
    "#### Read the contents of the file and modify the changes\n",
    "df = pd.read_csv('postal_code.csv_3')\n",
    "#Drop Nan rows\n",
    "df.dropna(subset=[\"Postal Code\"], axis=0, inplace=True)\n",
    "\n",
    "#EMpty SPaces replace by NAN\n",
    "nan_value = float(\"NAN\")\n",
    "df.replace(\" \", nan_value, inplace=True)\n",
    "#Drop rows with NAN\n",
    "df.dropna(subset=[\"Borough\"], axis=0, inplace=True)\n",
    "df.dropna(subset=[\"Neighbourhood\"], axis=0, inplace=True)\n",
    "\n",
    "#Reset the Default Index\n",
    "df.reset_index(inplace=True,drop=True)\n",
    "\n",
    "#Print the Shape \n",
    "shape = df.shape\n",
    "print(shape)   \n",
    "\n",
    "\n",
    "\n",
    "\n",
    "\n",
    "\n",
    "\n",
    "   \n",
    "\n",
    "    \n",
    "\n",
    "\n",
    "\n",
    " "
   ]
  },
  {
   "cell_type": "code",
   "execution_count": null,
   "metadata": {},
   "outputs": [],
   "source": []
  },
  {
   "cell_type": "code",
   "execution_count": null,
   "metadata": {},
   "outputs": [],
   "source": []
  }
 ],
 "metadata": {
  "kernelspec": {
   "display_name": "Python 3",
   "language": "python",
   "name": "python3"
  },
  "language_info": {
   "codemirror_mode": {
    "name": "ipython",
    "version": 3
   },
   "file_extension": ".py",
   "mimetype": "text/x-python",
   "name": "python",
   "nbconvert_exporter": "python",
   "pygments_lexer": "ipython3",
   "version": "3.7.6"
  }
 },
 "nbformat": 4,
 "nbformat_minor": 4
}
